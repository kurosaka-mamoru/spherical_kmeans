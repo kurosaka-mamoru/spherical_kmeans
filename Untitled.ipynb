{
 "cells": [
  {
   "cell_type": "code",
   "execution_count": 1,
   "metadata": {
    "collapsed": false
   },
   "outputs": [
    {
     "data": {
      "text/plain": [
       "{\n",
       "  use_th : function: 0x41ec11b8\n",
       "  use_niter : function: 0x41ec0e00\n",
       "}\n"
      ]
     },
     "execution_count": 1,
     "metadata": {},
     "output_type": "execute_result"
    }
   ],
   "source": [
    "require 'spkmeans'"
   ]
  },
  {
   "cell_type": "code",
   "execution_count": 2,
   "metadata": {
    "collapsed": false
   },
   "outputs": [
    {
     "ename": "./use_th.lua:3: attempt to concatenate global 'help' (a function value)\nstack traceback:\n\t./use_th.lua:3: in function 'f'\n\t[string \"local f = function() return spkmeans.use_th()...\"]:1: in main chunk\n\t[C]: in function 'xpcall'\n\t/home/kurosaka/torch/install/share/lua/5.1/itorch/main.lua:210: in function </home/kurosaka/torch/install/share/lua/5.1/itorch/main.lua:174>\n\t/home/kurosaka/torch/install/share/lua/5.1/lzmq/poller.lua:75: in function 'poll'\n\t.../kurosaka/torch/install/share/lua/5.1/lzmq/impl/loop.lua:307: in function 'poll'\n\t.../kurosaka/torch/install/share/lua/5.1/lzmq/impl/loop.lua:325: in function 'sleep_ex'\n\t.../kurosaka/torch/install/share/lua/5.1/lzmq/impl/loop.lua:370: in function 'start'\n\t/home/kurosaka/torch/install/share/lua/5.1/itorch/main.lua:389: in main chunk\n\t[C]: in function 'require'\n\t(command line):1: in main chunk\n\t[C]: at 0x00406670",
     "evalue": "",
     "output_type": "error",
     "traceback": [
      "./use_th.lua:3: attempt to concatenate global 'help' (a function value)\nstack traceback:\n\t./use_th.lua:3: in function 'f'\n\t[string \"local f = function() return spkmeans.use_th()...\"]:1: in main chunk\n\t[C]: in function 'xpcall'\n\t/home/kurosaka/torch/install/share/lua/5.1/itorch/main.lua:210: in function </home/kurosaka/torch/install/share/lua/5.1/itorch/main.lua:174>\n\t/home/kurosaka/torch/install/share/lua/5.1/lzmq/poller.lua:75: in function 'poll'\n\t.../kurosaka/torch/install/share/lua/5.1/lzmq/impl/loop.lua:307: in function 'poll'\n\t.../kurosaka/torch/install/share/lua/5.1/lzmq/impl/loop.lua:325: in function 'sleep_ex'\n\t.../kurosaka/torch/install/share/lua/5.1/lzmq/impl/loop.lua:370: in function 'start'\n\t/home/kurosaka/torch/install/share/lua/5.1/itorch/main.lua:389: in main chunk\n\t[C]: in function 'require'\n\t(command line):1: in main chunk\n\t[C]: at 0x00406670"
     ]
    }
   ],
   "source": [
    "spkmeans.use_th()"
   ]
  },
  {
   "cell_type": "code",
   "execution_count": null,
   "metadata": {
    "collapsed": true
   },
   "outputs": [],
   "source": []
  }
 ],
 "metadata": {
  "kernelspec": {
   "display_name": "iTorch",
   "language": "lua",
   "name": "itorch"
  },
  "language_info": {
   "name": "lua",
   "version": "5.1"
  }
 },
 "nbformat": 4,
 "nbformat_minor": 2
}
